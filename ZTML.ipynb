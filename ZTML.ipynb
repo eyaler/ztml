{
  "nbformat": 4,
  "nbformat_minor": 0,
  "metadata": {
    "colab": {
      "private_outputs": true,
      "provenance": [],
      "collapsed_sections": [],
      "authorship_tag": "ABX9TyMUjHcvm3FrnZ96Oayh3d2+",
      "include_colab_link": true
    },
    "kernelspec": {
      "name": "python3",
      "display_name": "Python 3"
    },
    "language_info": {
      "name": "python"
    }
  },
  "cells": [
    {
      "cell_type": "markdown",
      "metadata": {
        "id": "view-in-github",
        "colab_type": "text"
      },
      "source": [
        "<a href=\"https://colab.research.google.com/github/eyaler/ztml/blob/main/ZTML.ipynb\" target=\"_parent\"><img src=\"https://colab.research.google.com/assets/colab-badge.svg\" alt=\"Open In Colab\"/></a>"
      ]
    },
    {
      "cell_type": "markdown",
      "source": [
        "# ZTML\n",
        "\n",
        "### Extreme inline text compression for HTML / JS\n",
        "### By [Eyal Gruss](https://eyalgruss.com) ([@eyaler](https://twitter.com/eyaler)\\)\n",
        "\n",
        "Repo: [github.com/eyaler/ztml](https://github.com/eyaler/ztml)\n",
        "\n",
        "Shortcut to Colab: [bit.ly/ztml1](https://bit.ly/ztml1)"
      ],
      "metadata": {
        "id": "V__-3LfHyt5l"
      }
    },
    {
      "cell_type": "code",
      "execution_count": null,
      "metadata": {
        "cellView": "form",
        "id": "kKLXYZNYynrz"
      },
      "outputs": [],
      "source": [
        "#@title Setup\n",
        "%cd /content\n",
        "!git clone -q https://github.com/eyaler/ztml\n",
        "!pip -q install -r ztml/requirements.txt"
      ]
    },
    {
      "cell_type": "code",
      "source": [
        "#@title Enter text or HTML code\n",
        "#@markdown Important: for HTML tick `raw` below\n",
        "from IPython.display import display\n",
        "from ipywidgets import Layout, Textarea\n",
        "try:\n",
        "  text = textarea.value\n",
        "except NameError:\n",
        "  text = ''\n",
        "textarea = Textarea(value=text, placeholder='Type something', description='Text:', layout=Layout(width='90%', height='200px'))\n",
        "display(textarea)\n",
        "input_filename = 'textarea'"
      ],
      "metadata": {
        "cellView": "form",
        "id": "Z9RJOcFL_HEw"
      },
      "execution_count": null,
      "outputs": []
    },
    {
      "cell_type": "code",
      "source": [
        "#@title or Upload text or HTML or image file\n",
        "from google.colab import files\n",
        "%cd /content\n",
        "try:\n",
        "  files.upload_file('upload')\n",
        "  input_filename = 'upload'\n",
        "except:\n",
        "  pass"
      ],
      "metadata": {
        "cellView": "form",
        "id": "pzlcSOpCGFXy"
      },
      "execution_count": null,
      "outputs": []
    },
    {
      "cell_type": "code",
      "source": [
        "#@title Compress!\n",
        "#@markdown Warning: `bitdepth` of `8-bit`, `24-bit` do not work on Safari\n",
        "import os\n",
        "output_filename = 'index.html' #@param {type: 'string'}\n",
        "input_encoding = '' #@param {type: 'string'}\n",
        "reduce_whitespace = False #@param {type: 'boolean'}\n",
        "unix_newline = True #@param {type: 'boolean'}\n",
        "fix_punct = False #@param {type: 'boolean'}\n",
        "remove_bom = True #@param {type: 'boolean'} \n",
        "caps = 'auto' #@param ['auto', 'lower', 'raw', 'simple', 'upper']\n",
        "bwtsort = True #@param {type: 'boolean'}\n",
        "mtf = '0' #@param ['none', 0, 1, 2, 50, 52, 60, 70, 80, 90]\n",
        "bitdepth = 1 #@param [1, 8, 24]\n",
        "bin2txt = 'crenc' #@param ['base64', 'base125', 'crenc']\n",
        "element_id = '' #@param {type: 'string'}\n",
        "raw = False #@param {type: 'boolean'}\n",
        "image = False #@param {type: 'boolean'}\n",
        "js = False #@param {type: 'boolean'}\n",
        "uglify = True #@param {type: 'boolean'}\n",
        "replace_quoted = True #@param {type: 'boolean'}\n",
        "lang = '' #@param {type: 'string'}\n",
        "mobile = False #@param {type: 'boolean'}\n",
        "title = '' #@param {type: 'string'}\n",
        "text_var = 't' #@param {type: 'string'}\n",
        "\n",
        "%cd /content\n",
        "if input_filename == 'textarea':\n",
        "  with open(input_filename, 'wb') as f:\n",
        "    f.write(textarea.value.encode())\n",
        "reduce_whitespace_arg = '--reduce_whitespace' * reduce_whitespace\n",
        "unix_newline_arg = '--skip_unix_newline' * (not unix_newline)\n",
        "fix_punct_arg = '--fix_punct' * fix_punct\n",
        "remove_bom_arg = '--skip_remove_bom ' * (not remove_bom)\n",
        "bwtsort_arg = '--skip_bwtsort ' * (not bwtsort)\n",
        "raw_arg = '--raw' * raw\n",
        "image_arg = '--image' * image\n",
        "js_arg = '--js' * js\n",
        "uglify_arg = '--skip_uglify' * (not uglify)\n",
        "replace_quoted_arg = '--skip_replace_quoted' * (not replace_quoted)\n",
        "mobile_arg = '--mobile' * mobile\n",
        "!python ztml/ztml/ztml.py \"$input_filename\" \"$output_filename\" --input_encoding $input_encoding $reduce_whitespace_arg $unix_newline_arg $fix_punct_arg $remove_bom_arg --caps $caps $bwtsort_arg --mtf $mtf --bitdepth $bitdepth --bin2txt $bin2txt --element_id $element_id $raw_arg $image_arg $js_arg $uglify_arg $replace_quoted_arg --lang $lang $mobile_arg --title $title --text_var $text_var\n",
        "input_size = os.path.getsize(input_filename)\n",
        "output_size = os.path.getsize(output_filename)\n",
        "print(f'{input_size:,} B -> {output_size:,} B ({output_size / input_size * 100 :.1f}%)')"
      ],
      "metadata": {
        "id": "qg-KcsfG0CpP",
        "cellView": "form"
      },
      "execution_count": null,
      "outputs": []
    },
    {
      "cell_type": "code",
      "source": [
        "#@title Download output file\n",
        "from google.colab import files\n",
        "if bin2txt == 'crenc':\n",
        "  print(f'Note: {output_filename} is encoded in cp1252, which some editors might break')\n",
        "files.download(output_filename)"
      ],
      "metadata": {
        "cellView": "form",
        "id": "3C9EVO8sFyA0"
      },
      "execution_count": null,
      "outputs": []
    },
    {
      "cell_type": "code",
      "source": [
        "#@title Display output as hex dump\n",
        "from IPython.display import HTML\n",
        "with open(output_filename, 'rb') as f:\n",
        "  hex = '0x' + f.read().hex()\n",
        "print(hex)\n",
        "HTML(f\"<button onclick=navigator.clipboard.writeText('{hex}')>Copy</button>\")"
      ],
      "metadata": {
        "id": "v0GwtZtnTprz",
        "cellView": "form"
      },
      "execution_count": null,
      "outputs": []
    }
  ]
}