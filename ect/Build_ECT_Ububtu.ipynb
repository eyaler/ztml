{
  "nbformat": 4,
  "nbformat_minor": 0,
  "metadata": {
    "colab": {
      "private_outputs": true,
      "provenance": [],
      "authorship_tag": "ABX9TyMGts6SFpEriurAynOgIU2i",
      "include_colab_link": true
    },
    "kernelspec": {
      "name": "python3",
      "display_name": "Python 3"
    },
    "language_info": {
      "name": "python"
    }
  },
  "cells": [
    {
      "cell_type": "markdown",
      "metadata": {
        "id": "view-in-github",
        "colab_type": "text"
      },
      "source": [
        "<a href=\"https://colab.research.google.com/github/eyaler/ztml/blob/main/ect/Build_ECT_Ububtu.ipynb\" target=\"_parent\"><img src=\"https://colab.research.google.com/assets/colab-badge.svg\" alt=\"Open In Colab\"/></a>"
      ]
    },
    {
      "cell_type": "code",
      "source": [
        "%cd /content\n",
        "!git clone --recursive https://github.com/fhanau/Efficient-Compression-Tool\n",
        "!latestTag=$(git describe --tags `git rev-list --tags --max-count=1`)\n",
        "!echo $latestTag\n",
        "!git checkout $latestTag\n",
        "!apt -y install nasm\n",
        "%cd Efficient-Compression-Tool\n",
        "!mkdir build\n",
        "%cd build\n",
        "!cmake ../src\n",
        "!make"
      ],
      "metadata": {
        "id": "jh1og550gUD-"
      },
      "execution_count": null,
      "outputs": []
    },
    {
      "cell_type": "code",
      "source": [
        "!./ect"
      ],
      "metadata": {
        "id": "hR9UQWk88qsx"
      },
      "execution_count": null,
      "outputs": []
    },
    {
      "cell_type": "code",
      "source": [
        "from google.colab import files\n",
        "!mv ect ect-ubuntu\n",
        "files.download('ect-ubuntu')"
      ],
      "metadata": {
        "id": "b7IETFkT7Y7Z"
      },
      "execution_count": null,
      "outputs": []
    }
  ]
}