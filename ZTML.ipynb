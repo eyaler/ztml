{
  "nbformat": 4,
  "nbformat_minor": 0,
  "metadata": {
    "colab": {
      "private_outputs": true,
      "provenance": [],
      "collapsed_sections": [],
      "authorship_tag": "ABX9TyOQuhs4K/wmyLMyg7HFtmaU",
      "include_colab_link": true
    },
    "kernelspec": {
      "name": "python3",
      "display_name": "Python 3"
    },
    "language_info": {
      "name": "python"
    }
  },
  "cells": [
    {
      "cell_type": "markdown",
      "metadata": {
        "id": "view-in-github",
        "colab_type": "text"
      },
      "source": [
        "<a href=\"https://colab.research.google.com/github/eyaler/ztml/blob/main/ZTML.ipynb\" target=\"_parent\"><img src=\"https://colab.research.google.com/assets/colab-badge.svg\" alt=\"Open In Colab\"/></a>"
      ]
    },
    {
      "cell_type": "markdown",
      "source": [
        "# ZTML\n",
        "\n",
        "### Extreme inline text compression for HTML / JS\n",
        "### By [Eyal Gruss](https://eyalgruss.com) ([@eyaler](https://twitter.com/eyaler)\\)\n",
        "\n",
        "repo: [github.com/eyaler/ztml](https://github.com/eyaler/ztml)\n",
        "\n",
        "shortcut to colab: [bit.ly/ztml1](https://bit.ly/ztml1)"
      ],
      "metadata": {
        "id": "V__-3LfHyt5l"
      }
    },
    {
      "cell_type": "code",
      "execution_count": null,
      "metadata": {
        "cellView": "form",
        "id": "kKLXYZNYynrz"
      },
      "outputs": [],
      "source": [
        "#@title Setup\n",
        "%cd /content\n",
        "!git clone https://github.com/eyaler/ztml\n",
        "!pip install -r ztml/requirements.txt"
      ]
    },
    {
      "cell_type": "code",
      "source": [
        "#@title Upload input file\n",
        "import os\n",
        "from google.colab import files\n",
        "%cd /content\n",
        "!rm -rf upload\n",
        "!mkdir upload\n",
        "%cd upload\n",
        "input_filename = os.path.join('upload', list(files.upload())[0])\n",
        "%cd .."
      ],
      "metadata": {
        "cellView": "form",
        "id": "pzlcSOpCGFXy"
      },
      "execution_count": null,
      "outputs": []
    },
    {
      "cell_type": "code",
      "source": [
        "#@title Compress!\n",
        "output_filename = 'index.html' #@param {type: 'string'}\n",
        "input_encoding = '' #@param {type: 'string'}\n",
        "reduce_whitespace = False #@param {type: 'boolean'}\n",
        "unix_newline = True #@param {type: 'boolean'}\n",
        "fix_punct = False #@param {type: 'boolean'}\n",
        "caps = 'auto' #@param ['auto', 'lower', 'raw', 'simple', 'upper']\n",
        "mtf = '0' #@param ['none', 0, 1, 2, 50, 52, 60, 70, 80, 90]\n",
        "bin2txt = 'crenc' #@param ['base64', 'base125', 'crenc']\n",
        "element_id = '' #@param {type: 'string'}\n",
        "raw = False #@param {type: 'boolean'}\n",
        "image = False #@param {type: 'boolean'}\n",
        "js = False #@param {type: 'boolean'}\n",
        "uglify = True #@param {type: 'boolean'}\n",
        "replace_quoted = True #@param {type: 'boolean'}\n",
        "lang = 'en' #@param {type: 'string'}\n",
        "mobile = False #@param {type: 'boolean'}\n",
        "\n",
        "%cd /content\n",
        "!python ztml/ztml/ztml.py $input_filename \"$output_filename\" --input_encoding $input_encoding --reduce_whitespace $reduce_whitespace --unix_newline $unix_newline --fix_punct $fix_punct --caps $caps --mtf $mtf --bin2txt $bin2txt --element_id $element_id --raw $raw --image $image --js $js --uglify $uglify --replace_quoted $replace_quoted --lang $lang --mobile $mobile\n"
      ],
      "metadata": {
        "cellView": "form",
        "id": "qg-KcsfG0CpP"
      },
      "execution_count": null,
      "outputs": []
    },
    {
      "cell_type": "code",
      "source": [
        "#@title Download output file\n",
        "files.download(output_filename)"
      ],
      "metadata": {
        "cellView": "form",
        "id": "3C9EVO8sFyA0"
      },
      "execution_count": null,
      "outputs": []
    }
  ]
}