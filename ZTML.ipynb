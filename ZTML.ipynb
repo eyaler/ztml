{
  "nbformat": 4,
  "nbformat_minor": 0,
  "metadata": {
    "colab": {
      "private_outputs": true,
      "provenance": [],
      "collapsed_sections": [],
      "authorship_tag": "ABX9TyN7CoxWdVZJHVnjbOurkKbG",
      "include_colab_link": true
    },
    "kernelspec": {
      "name": "python3",
      "display_name": "Python 3"
    },
    "language_info": {
      "name": "python"
    }
  },
  "cells": [
    {
      "cell_type": "markdown",
      "metadata": {
        "id": "view-in-github",
        "colab_type": "text"
      },
      "source": [
        "<a href=\"https://colab.research.google.com/github/eyaler/ztml/blob/main/ZTML.ipynb\" target=\"_parent\"><img src=\"https://colab.research.google.com/assets/colab-badge.svg\" alt=\"Open In Colab\"/></a>"
      ]
    },
    {
      "cell_type": "markdown",
      "source": [
        "# ZTML\n",
        "\n",
        "### Extreme inline text compression for HTML / JS\n",
        "### By [Eyal Gruss](https://eyalgruss.com) ([@eyaler](https://twitter.com/eyaler)\\)\n",
        "\n",
        "repo: [github.com/eyaler/ztml](https://github.com/eyaler/ztml)\n",
        "\n",
        "shortcut to colab: [bit.ly/ztml1](https://bit.ly/ztml1)"
      ],
      "metadata": {
        "id": "V__-3LfHyt5l"
      }
    },
    {
      "cell_type": "code",
      "execution_count": null,
      "metadata": {
        "cellView": "form",
        "id": "kKLXYZNYynrz"
      },
      "outputs": [],
      "source": [
        "#@title Setup\n",
        "%cd /content\n",
        "!git clone -q https://github.com/eyaler/ztml\n",
        "!pip -q install -r ztml/requirements.txt"
      ]
    },
    {
      "cell_type": "code",
      "source": [
        "#@title Enter text\n",
        "from IPython.display import display\n",
        "from ipywidgets import Layout, Textarea\n",
        "try:\n",
        "  text = textarea.value\n",
        "except NameError:\n",
        "  text = ''\n",
        "textarea = Textarea(value=text, placeholder='Type something', description='Text:', layout=Layout(width='90%', height='200px'))\n",
        "display(textarea)\n",
        "input_filename = '_textarea_input.txt'"
      ],
      "metadata": {
        "cellView": "form",
        "id": "Z9RJOcFL_HEw"
      },
      "execution_count": null,
      "outputs": []
    },
    {
      "cell_type": "code",
      "source": [
        "#@title or Upload text or image file\n",
        "import os\n",
        "from google.colab import files\n",
        "%cd /content\n",
        "!rm -rf upload\n",
        "!mkdir upload\n",
        "%cd upload\n",
        "uploaded = list(files.upload())\n",
        "if uploaded:\n",
        "  input_filename = os.path.join('upload', uploaded[0])\n",
        "%cd .."
      ],
      "metadata": {
        "cellView": "form",
        "id": "pzlcSOpCGFXy"
      },
      "execution_count": null,
      "outputs": []
    },
    {
      "cell_type": "code",
      "source": [
        "#@title Compress!\n",
        "output_filename = 'index.html' #@param {type: 'string'}\n",
        "input_encoding = '' #@param {type: 'string'}\n",
        "reduce_whitespace = False #@param {type: 'boolean'}\n",
        "unix_newline = True #@param {type: 'boolean'}\n",
        "fix_punct = False #@param {type: 'boolean'}\n",
        "caps = 'auto' #@param ['auto', 'lower', 'raw', 'simple', 'upper']\n",
        "mtf = '0' #@param ['none', 0, 1, 2, 50, 52, 60, 70, 80, 90]\n",
        "bin2txt = 'crenc' #@param ['base64', 'base125', 'crenc']\n",
        "element_id = '' #@param {type: 'string'}\n",
        "raw = False #@param {type: 'boolean'}\n",
        "image = False #@param {type: 'boolean'}\n",
        "js = False #@param {type: 'boolean'}\n",
        "uglify = True #@param {type: 'boolean'}\n",
        "replace_quoted = True #@param {type: 'boolean'}\n",
        "lang = 'en' #@param {type: 'string'}\n",
        "mobile = False #@param {type: 'boolean'}\n",
        "title = '' #@param {type: 'string'}\n",
        "\n",
        "%cd /content\n",
        "if input_filename == '_textarea_input.txt':\n",
        "  with open(input_filename, 'wb') as f:\n",
        "    f.write(textarea.value.encode())\n",
        "args = ' --reduce_whitespace'*reduce_whitespace + ' --skip_unix_newline '*(not unix_newline) + ' --fix_punct'*fix_punct + ' --raw'*raw + ' --image'*image + ' --js'*js + ' --skip_uglify'*(not uglify) + ' --skip_replace_quoted'*(not replace_quoted) + ' --mobile'*mobile\n",
        "!python ztml/ztml/ztml.py $input_filename \"$output_filename\" --input_encoding $input_encoding --caps $caps --mtf $mtf --bin2txt $bin2txt --element_id $element_id --lang $lang --title $title $args\n"
      ],
      "metadata": {
        "id": "qg-KcsfG0CpP",
        "cellView": "form"
      },
      "execution_count": null,
      "outputs": []
    },
    {
      "cell_type": "code",
      "source": [
        "#@title Download output file\n",
        "files.download(output_filename)"
      ],
      "metadata": {
        "cellView": "form",
        "id": "3C9EVO8sFyA0"
      },
      "execution_count": null,
      "outputs": []
    },
    {
      "cell_type": "code",
      "source": [
        "#@title Display output file\n",
        "with open(output_filename, 'rb') as f:\n",
        "  print(f.read().decode('cp1252' if bin2txt == 'crenc' else 'utf8'))"
      ],
      "metadata": {
        "id": "2yjFPCvXQHh-",
        "cellView": "form"
      },
      "execution_count": null,
      "outputs": []
    },
    {
      "cell_type": "code",
      "source": [
        "#@title Display output file as hex bytes\n",
        "with open(output_filename, 'rb') as f:\n",
        "  print('0x' + f.read().hex())"
      ],
      "metadata": {
        "id": "v0GwtZtnTprz",
        "cellView": "form"
      },
      "execution_count": null,
      "outputs": []
    }
  ]
}